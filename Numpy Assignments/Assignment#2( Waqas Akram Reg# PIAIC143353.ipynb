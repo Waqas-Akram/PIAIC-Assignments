{
 "cells": [
  {
   "cell_type": "markdown",
   "metadata": {},
   "source": [
    "# Numpy_Assignment_2 By Waqas Akram Reg# PIAIC143353"
   ]
  },
  {
   "cell_type": "markdown",
   "metadata": {},
   "source": [
    "## Question:1"
   ]
  },
  {
   "cell_type": "code",
   "execution_count": null,
   "metadata": {},
   "outputs": [],
   "source": [
    "import numpy as np"
   ]
  },
  {
   "cell_type": "markdown",
   "metadata": {},
   "source": [
    "### Convert a 1D array to a 2D array with 2 rows?"
   ]
  },
  {
   "cell_type": "markdown",
   "metadata": {},
   "source": [
    "#### Desired output::"
   ]
  },
  {
   "cell_type": "markdown",
   "metadata": {},
   "source": [
    "array([[0, 1, 2, 3, 4],\n",
    "        [5, 6, 7, 8, 9]])"
   ]
  },
  {
   "cell_type": "code",
   "execution_count": 3,
   "metadata": {},
   "outputs": [
    {
     "output_type": "stream",
     "name": "stdout",
     "text": [
      "[0 1 2 3 4 5 6 7 8 9]\n[[0 1 2 3 4]\n [5 6 7 8 9]]\n"
     ]
    }
   ],
   "source": [
    "import numpy as np\n",
    "arr_1d = np.arange(10)\n",
    "print(arr_1d)\n",
    "arr_2d = arr_1d.reshape(2,5)\n",
    "print(arr_2d)"
   ]
  },
  {
   "cell_type": "markdown",
   "metadata": {},
   "source": [
    "## Question:2"
   ]
  },
  {
   "cell_type": "markdown",
   "metadata": {},
   "source": [
    "###  How to stack two arrays vertically?"
   ]
  },
  {
   "cell_type": "markdown",
   "metadata": {},
   "source": [
    "#### Desired Output::"
   ]
  },
  {
   "cell_type": "raw",
   "metadata": {},
   "source": [
    "array([[0, 1, 2, 3, 4],\n",
    "        [5, 6, 7, 8, 9],\n",
    "       [1, 1, 1, 1, 1],\n",
    "       [1, 1, 1, 1, 1]])"
   ]
  },
  {
   "cell_type": "code",
   "execution_count": 8,
   "metadata": {},
   "outputs": [
    {
     "output_type": "stream",
     "name": "stdout",
     "text": [
      "[[2 4 5]\n [3 7 9]]\n"
     ]
    }
   ],
   "source": [
    "#for stacking The arrays must have the same shape along all but the first axis. 1-D arrays must have the same length.\n",
    "arr_1 = np.array([2,4,5])\n",
    "arr_2 = np.array([3,7,9])\n",
    "vertical_stack_of_array = np.vstack((arr_1,arr_2))\n",
    "print(vertical_stack_of_array)"
   ]
  },
  {
   "cell_type": "markdown",
   "metadata": {},
   "source": [
    "## Question:3"
   ]
  },
  {
   "cell_type": "markdown",
   "metadata": {},
   "source": [
    "### How to stack two arrays horizontally?"
   ]
  },
  {
   "cell_type": "markdown",
   "metadata": {},
   "source": [
    "#### Desired Output::"
   ]
  },
  {
   "cell_type": "raw",
   "metadata": {},
   "source": [
    "array([[0, 1, 2, 3, 4, 1, 1, 1, 1, 1],\n",
    "       [5, 6, 7, 8, 9, 1, 1, 1, 1, 1]])"
   ]
  },
  {
   "cell_type": "code",
   "execution_count": 6,
   "metadata": {},
   "outputs": [
    {
     "output_type": "stream",
     "name": "stdout",
     "text": [
      "[2 4 5 3 7 9]\n"
     ]
    }
   ],
   "source": [
    "arr_1 = np.array([2,4,5])\n",
    "arr_2 = np.array([3,7,9])\n",
    "horizontal_stack_of_array = np.hstack((arr_1,arr_2))\n",
    "print(horizontal_stack_of_array)"
   ]
  },
  {
   "cell_type": "markdown",
   "metadata": {},
   "source": [
    "## Question:4"
   ]
  },
  {
   "cell_type": "markdown",
   "metadata": {},
   "source": [
    "### How to convert an array of arrays into a flat 1d array?"
   ]
  },
  {
   "cell_type": "markdown",
   "metadata": {},
   "source": [
    "#### Desired Output::"
   ]
  },
  {
   "cell_type": "raw",
   "metadata": {},
   "source": [
    "array([0, 1, 2, 3, 4, 5, 6, 7, 8, 9])"
   ]
  },
  {
   "cell_type": "code",
   "execution_count": 9,
   "metadata": {},
   "outputs": [
    {
     "output_type": "stream",
     "name": "stdout",
     "text": [
      "Original Initial Array \n\n[[1 2 3]\n [2 4 5]\n [1 2 3]]\nFlatted Array  [1 2 3 2 4 5 1 2 3]\n"
     ]
    }
   ],
   "source": [
    "initial_array = np.array([[1, 2, 3], [2, 4, 5], [1, 2, 3]]) \n",
    "print(\"Original Initial Array \\n\")\n",
    "print(initial_array)\n",
    "flat_Array = initial_array.flatten()\n",
    "print(\"Flatted Array \",flat_Array)"
   ]
  },
  {
   "cell_type": "markdown",
   "metadata": {},
   "source": [
    "## Question:5"
   ]
  },
  {
   "cell_type": "markdown",
   "metadata": {},
   "source": [
    "### How to Convert higher dimension into one dimension?"
   ]
  },
  {
   "cell_type": "markdown",
   "metadata": {},
   "source": [
    "#### Desired Output::"
   ]
  },
  {
   "cell_type": "raw",
   "metadata": {},
   "source": [
    "array([ 0, 1, 2, 3, 4, 5, 6, 7, 8, 9, 10, 11, 12, 13, 14])"
   ]
  },
  {
   "cell_type": "code",
   "execution_count": 16,
   "metadata": {},
   "outputs": [
    {
     "output_type": "stream",
     "name": "stdout",
     "text": [
      "[[[ 0  1  2  3]\n  [ 4  5  6  7]\n  [ 8  9 10 11]\n  [12 13 14 15]]\n\n [[16 17 18 19]\n  [20 21 22 23]\n  [24 25 26 27]\n  [28 29 30 31]]\n\n [[32 33 34 35]\n  [36 37 38 39]\n  [40 41 42 43]\n  [44 45 46 47]]\n\n [[48 49 50 51]\n  [52 53 54 55]\n  [56 57 58 59]\n  [60 61 62 63]]] \n\nOnly one Dimension\n\n [ 0  1  2  3  4  5  6  7  8  9 10 11 12 13 14 15 16 17 18 19 20 21 22 23\n 24 25 26 27 28 29 30 31 32 33 34 35 36 37 38 39 40 41 42 43 44 45 46 47\n 48 49 50 51 52 53 54 55 56 57 58 59 60 61 62 63]\n"
     ]
    }
   ],
   "source": [
    "high_Dimension = np.arange(64).reshape(4,4,4)\n",
    "print(high_Dimension,\"\\n\")\n",
    "print(\"Only one Dimension\\n\\n\",high_Dimension.ravel())"
   ]
  },
  {
   "cell_type": "markdown",
   "metadata": {},
   "source": [
    "## Question:6"
   ]
  },
  {
   "cell_type": "markdown",
   "metadata": {},
   "source": [
    "### Convert one dimension to higher dimension?"
   ]
  },
  {
   "cell_type": "markdown",
   "metadata": {},
   "source": [
    "#### Desired Output::"
   ]
  },
  {
   "cell_type": "raw",
   "metadata": {},
   "source": [
    "array([[ 0, 1, 2],\n",
    "[ 3, 4, 5],\n",
    "[ 6, 7, 8],\n",
    "[ 9, 10, 11],\n",
    "[12, 13, 14]])"
   ]
  },
  {
   "cell_type": "code",
   "execution_count": 24,
   "metadata": {},
   "outputs": [
    {
     "output_type": "stream",
     "name": "stdout",
     "text": [
      "Dimension =  1\nDimension  3\n"
     ]
    }
   ],
   "source": [
    "one_dimension = np.arange(125)\n",
    "print (\"Dimension = \",one_dimension.ndim)\n",
    "higher_dimension = one_dimension.reshape(5,5,5)\n",
    "print(\"Dimension \",higher_dimension.ndim)"
   ]
  },
  {
   "cell_type": "markdown",
   "metadata": {},
   "source": [
    "## Question:7"
   ]
  },
  {
   "cell_type": "markdown",
   "metadata": {},
   "source": [
    "### Create 5x5 an array and find the square of an array?"
   ]
  },
  {
   "cell_type": "code",
   "execution_count": 36,
   "metadata": {},
   "outputs": [
    {
     "output_type": "stream",
     "name": "stdout",
     "text": [
      "Simple initial Array \n\n\n[[256.59881732 164.01619783 531.61343926 753.02470475 688.06711976]\n [415.34831749 588.93312953 496.42963566 634.38209903 808.35732405]\n [755.84691103 241.85762012 195.26405633 547.62528809 541.64112838]\n [ 44.8874155  168.66248534 617.24660312 876.490002   804.84531701]\n [474.59170613 305.47507069 547.63910027 790.85418328 409.90908476]] \n\n\nSquares \n\n\n[[ 65842.95305104  26901.31314974 282612.84880516 567046.20596579\n  473436.36129671]\n [172514.22484278 346842.23105275 246442.38316181 402440.64756635\n  653441.56333852]\n [571304.55291656  58495.10840858  38128.05169596 299893.45615848\n  293375.11195708]\n [  2014.88007009  28447.03396094 380993.369067   768234.72360973\n  647775.9843186 ]\n [225237.28752497  93315.01881193 299908.58414254 625450.33921262\n  168025.45776622]]\n"
     ]
    }
   ],
   "source": [
    "simple_array = np.random.random((5,5))*1000\n",
    "print(\"Simple initial Array \\n\\n\")\n",
    "print(simple_array,\"\\n\\n\")\n",
    "squares_of_array = np.square(simple_array)\n",
    "print(\"Squares \\n\\n\")\n",
    "print(squares_of_array)\n"
   ]
  },
  {
   "cell_type": "markdown",
   "metadata": {},
   "source": [
    "## Question:8"
   ]
  },
  {
   "cell_type": "markdown",
   "metadata": {},
   "source": [
    "### Create 5x6 an array and find the mean?"
   ]
  },
  {
   "cell_type": "code",
   "execution_count": 41,
   "metadata": {},
   "outputs": [
    {
     "output_type": "stream",
     "name": "stdout",
     "text": [
      "Random Array \n \n [[0.48504937 0.83798894 0.45304695 0.38532957 0.65773694 0.63682056]\n [0.78499199 0.85910212 0.4031863  0.19133103 0.85377983 0.07712074]\n [0.04109308 0.35886291 0.72262774 0.2354983  0.53399661 0.87463919]\n [0.36543344 0.79350744 0.00782329 0.58140666 0.44806574 0.05127078]\n [0.45548146 0.00698819 0.67393018 0.07137093 0.58811662 0.56033618]]\n\n\nMean =  0.46653110299335093\n"
     ]
    }
   ],
   "source": [
    "radom_array = np.random.random((5,6))\n",
    "print(\"Random Array \\n \\n\",radom_array)\n",
    "mean_of_array = np.mean(radom_array)\n",
    "print(\"\\n\\nMean = \",mean_of_array)"
   ]
  },
  {
   "cell_type": "markdown",
   "metadata": {},
   "source": [
    "## Question:9"
   ]
  },
  {
   "cell_type": "markdown",
   "metadata": {},
   "source": [
    "### Find the standard deviation of the previous array in Q8?"
   ]
  },
  {
   "cell_type": "code",
   "execution_count": 42,
   "metadata": {},
   "outputs": [
    {
     "output_type": "stream",
     "name": "stdout",
     "text": [
      "Standard Deviation =  0.2755459833985996\n"
     ]
    }
   ],
   "source": [
    "standard_deviation = np.std(radom_array)\n",
    "print(\"Standard Deviation = \",standard_deviation)"
   ]
  },
  {
   "cell_type": "markdown",
   "metadata": {},
   "source": [
    "## Question:10"
   ]
  },
  {
   "cell_type": "markdown",
   "metadata": {},
   "source": [
    "### Find the median of the previous array in Q8?"
   ]
  },
  {
   "cell_type": "code",
   "execution_count": 43,
   "metadata": {},
   "outputs": [
    {
     "output_type": "stream",
     "name": "stdout",
     "text": [
      "Median =  0.47026541778800995\n"
     ]
    }
   ],
   "source": [
    "median = np.median(radom_array)\n",
    "print(\"Median = \",median)"
   ]
  },
  {
   "cell_type": "markdown",
   "metadata": {},
   "source": [
    "## Question:11"
   ]
  },
  {
   "cell_type": "markdown",
   "metadata": {},
   "source": [
    "### Find the transpose of the previous array in Q8?"
   ]
  },
  {
   "cell_type": "code",
   "execution_count": 45,
   "metadata": {},
   "outputs": [
    {
     "output_type": "stream",
     "name": "stdout",
     "text": [
      "[[0.48504937 0.78499199 0.04109308 0.36543344 0.45548146]\n [0.83798894 0.85910212 0.35886291 0.79350744 0.00698819]\n [0.45304695 0.4031863  0.72262774 0.00782329 0.67393018]\n [0.38532957 0.19133103 0.2354983  0.58140666 0.07137093]\n [0.65773694 0.85377983 0.53399661 0.44806574 0.58811662]\n [0.63682056 0.07712074 0.87463919 0.05127078 0.56033618]]\n"
     ]
    }
   ],
   "source": [
    "transpose_of_array = radom_array.T\n",
    "print(transpose_of_array)"
   ]
  },
  {
   "cell_type": "markdown",
   "metadata": {},
   "source": [
    "## Question:12"
   ]
  },
  {
   "cell_type": "markdown",
   "metadata": {},
   "source": [
    "### Create a 4x4 an array and find the sum of diagonal elements?"
   ]
  },
  {
   "cell_type": "code",
   "execution_count": 66,
   "metadata": {},
   "outputs": [
    {
     "output_type": "stream",
     "name": "stdout",
     "text": [
      "4x4 Matrix \n \n [[ 0  1  2  3]\n [ 4  5  6  7]\n [ 8  9 10 11]\n [12 13 14 15]]\nDiagonal Elements :  [ 0  5 10 15]\nSum of Diagonal =  30\n"
     ]
    }
   ],
   "source": [
    "normal_array = np.arange(16).reshape(4,4)\n",
    "print(\"4x4 Matrix \\n \\n\",normal_array)\n",
    "diagonal_matrix = np.diag(normal_array)\n",
    "print(\"Diagonal Elements : \",diagonal_matrix) #extract diagonal elements\n",
    "diagonal_matrix = np.sum(diagonal_matrix) #finding Sum here\n",
    "print(\"Sum of Diagonal = \",diagonal_matrix)\n",
    "\n"
   ]
  },
  {
   "cell_type": "markdown",
   "metadata": {},
   "source": [
    "## Question:13"
   ]
  },
  {
   "cell_type": "markdown",
   "metadata": {},
   "source": [
    "### Find the determinant of the previous array in Q12?"
   ]
  },
  {
   "cell_type": "code",
   "execution_count": 68,
   "metadata": {},
   "outputs": [
    {
     "output_type": "stream",
     "name": "stdout",
     "text": [
      "Determinant =  0.0\n"
     ]
    }
   ],
   "source": [
    "determinat = np.linalg.det(normal_array)\n",
    "print(\"Determinant = \",determinat)"
   ]
  },
  {
   "cell_type": "markdown",
   "metadata": {},
   "source": [
    "## Question:14"
   ]
  },
  {
   "cell_type": "markdown",
   "metadata": {},
   "source": [
    "### Find the 5th and 95th percentile of an array?"
   ]
  },
  {
   "cell_type": "code",
   "execution_count": 70,
   "metadata": {},
   "outputs": [
    {
     "output_type": "stream",
     "name": "stdout",
     "text": [
      "Given Array   :  [ 0  1  2  3  4  5  6  7  8  9 10 11]\n5th Percentile  =  0.55 %\n95th Percentile   10.45 %\n"
     ]
    }
   ],
   "source": [
    "given_array = np.arange(12)\n",
    "print(\"Given Array   : \",given_array)\n",
    "percentile_5th = np.percentile(given_array,5)\n",
    "percentile_95th = np.percentile(given_array,95)\n",
    "print(\"5th Percentile  = \",percentile_5th,\"%\")\n",
    "print(\"95th Percentile  \",percentile_95th,\"%\")"
   ]
  },
  {
   "cell_type": "markdown",
   "metadata": {},
   "source": [
    "## Question:15"
   ]
  },
  {
   "cell_type": "markdown",
   "metadata": {},
   "source": [
    "### How to find if a given array has any null values?"
   ]
  },
  {
   "cell_type": "code",
   "execution_count": 78,
   "metadata": {},
   "outputs": [
    {
     "output_type": "stream",
     "name": "stdout",
     "text": [
      "[False]\n"
     ]
    }
   ],
   "source": [
    "#We can find out by using function isnan() importing from numpy\n",
    "simple_array = np.arange(5)\n",
    "print(np.isnan(simple_array)) #this will return boolean values ,, if null present it returns true otherwise false"
   ]
  },
  {
   "cell_type": "code",
   "execution_count": null,
   "metadata": {},
   "outputs": [],
   "source": []
  }
 ],
 "metadata": {
  "kernelspec": {
   "display_name": "Python 3",
   "language": "python",
   "name": "python3"
  },
  "language_info": {
   "codemirror_mode": {
    "name": "ipython",
    "version": 3
   },
   "file_extension": ".py",
   "mimetype": "text/x-python",
   "name": "python",
   "nbconvert_exporter": "python",
   "pygments_lexer": "ipython3",
   "version": "3.8.5-final"
  }
 },
 "nbformat": 4,
 "nbformat_minor": 2
}